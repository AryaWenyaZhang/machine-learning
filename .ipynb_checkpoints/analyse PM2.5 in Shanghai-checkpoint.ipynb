{
 "cells": [
  {
   "cell_type": "code",
   "execution_count": null,
   "metadata": {},
   "outputs": [],
   "source": [
    "#analyze PM2.5 in shanghai\n",
    "import pandas as pd\n",
    "data_df = pd.read_csv('../data/ShanghaiPM20100101_20151231.csv')\n",
    "print('====数据集基本信息====')\n",
    "print(data_df.info())\n",
    "print('====数据预览:====')\n",
    "print(data_df.head())\n",
    "# TODO，计算新列PM_China，值为PM_Jingan和PM_Xuhui列的均值\n",
    "data_df['PM_China'] = data_df[['PM_Jingan', 'PM_Xuhui']].mean(axis=1)\n",
    "cln_data_df = data_df[['year','month','day','PM_China','PM_US Post']]\n",
    "# TODO，使用dropna方法去除cln_data_df中的空值行，并将结果重新赋值给cln_data_df\n",
    "cln_data_df = cln_data_df.dropna()\n",
    "cln_data_df[['year', 'month', 'day']] = cln_data_df[['year', 'month', 'day']].astype('str')\n",
    "# TODO，将year、month、day三列合并成新列date，新列中每个元素由原来三列的对应元素拼接而成。\n",
    "# 拼接结果为year-month-day\n",
    "cln_data_df['date'] = cln_data_df['year'].str.cat([cln_data_df['month'], cln_data_df['day']], sep='-')\n",
    "# 留下PM_China、PM_US Post和date三列\n",
    "cln_data_df = cln_data_df[['PM_China', 'PM_US Post', 'date']]\\\n",
    "# TODO，依据date列对day_stats进行分组，及获取每天PM_China和PM_US Post列的均值\n",
    "# 将分组及求均值之后的结果赋值给变量day_stats\n",
    "day_stats = cln_data_df.groupby(['date'])[['PM_China', 'PM_US Post']].mean()\n",
    "import numpy as np\n",
    "bins = [-np.inf, 35, 75, 150, np.inf]\n",
    "state_lablels = ['优', '轻度', '中度', '重度']\n",
    "day_stats['Polluted State CH'] = pd.cut(day_stats['PM_China'], bins=bins, labels=state_lablels)\n",
    "day_stats['Polluted State US'] = pd.cut(day_stats['PM_US Post'], bins=bins, labels=state_lablels)\n",
    "# TODO，统计Polluted State CH中的每种值分别出现的次数\n",
    "# 并存到变量ch_stats\n",
    "ch_stats = day_stats['Polluted State CH'].value_counts()\n",
    "# TODO，统计Polluted State CH中的每种值分别出现的次数\n",
    "# 并存到变量us_stats\n",
    "us_stats = day_stats['Polluted State US'].value_counts()\n",
    "import matplotlib.pyplot as plt\n",
    "%matplotlib inline\n",
    "result_df = pd.DataFrame({'中国上海统计':ch_stats,\n",
    "                          '美国上海统计':us_stats})\n",
    "# 绘制结果\n",
    "plt.rcParams['font.sans-serif'] = ['SimHei']\n",
    "result_df.plot.bar()\n",
    "plt.show()\n"
   ]
  }
 ],
 "metadata": {
  "kernelspec": {
   "display_name": "Python 3",
   "language": "python",
   "name": "python3"
  },
  "language_info": {
   "codemirror_mode": {
    "name": "ipython",
    "version": 3
   },
   "file_extension": ".py",
   "mimetype": "text/x-python",
   "name": "python",
   "nbconvert_exporter": "python",
   "pygments_lexer": "ipython3",
   "version": "3.6.4"
  }
 },
 "nbformat": 4,
 "nbformat_minor": 2
}
