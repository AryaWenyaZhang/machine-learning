{
 "cells": [
  {
   "cell_type": "code",
   "execution_count": null,
   "metadata": {},
   "outputs": [],
   "source": [
    "import pandas as pd\n",
    "import re\n",
    "\n",
    "# 读入数据\n",
    "file = \"../data/job_skills.csv\"\n",
    "df = pd.read_csv(file)\n",
    "\n",
    "# 定义语言列表\n",
    "lang_list = ['python', 'java', 'c++', 'php', 'javascript', 'objective-c', \n",
    "             'ruby', 'perl', 'c', 'c#', 'sql', 'swift', 'scala', 'r']\n",
    "\n",
    "# 定义统计函数，输入字符串，从中提取包含的‘python’、'java'等语言单词的次数\n",
    "def lang_count(miniumum_qualifications_string, lang_dict):\n",
    "    for w in re.split('[^\\w#+-]',miniumum_qualifications_string):\n",
    "        lower_w=w.lower()\n",
    "        if lower_w in lang_list:\n",
    "            lang_dict[lower_w]+=1\n",
    "            \n",
    "    \n",
    "    '''统计lang_dict中已经有的key在miniumum_qualifications_string中出现的次数。\n",
    "    \n",
    "       输入：\n",
    "           miniumum_qualifications_string：str类型，被查询的字符串。\n",
    "           lang_dict：结果字典，key为语言的名字，value是累计出现的次数。           \n",
    "    '''\n",
    "    # TODO，需要添加代码。\n",
    "    # 从miniumum_qualifications_string中提取内容，以提取的lang_list中的编程语言名字作为key，累加到lang_dict中。\n",
    "\n",
    "# 初始化字典变量lang_dict, 以lang_list中的语言名字为key，出现次数为0\n",
    "lang_dict = {x:0 for x in lang_list}\n",
    "\n",
    "# 对于Minimum Qualifications列中的每一项，调用lang_count方法，并将结果累计到lang_dict中。\n",
    "df['Minimum Qualifications'].apply(lambda x: lang_count(str(x), lang_dict))\n",
    "    \n",
    "print(lang_dict)"
   ]
  },
  {
   "cell_type": "code",
   "execution_count": null,
   "metadata": {},
   "outputs": [],
   "source": []
  }
 ],
 "metadata": {
  "kernelspec": {
   "display_name": "Python 3",
   "language": "python",
   "name": "python3"
  },
  "language_info": {
   "codemirror_mode": {
    "name": "ipython",
    "version": 3
   },
   "file_extension": ".py",
   "mimetype": "text/x-python",
   "name": "python",
   "nbconvert_exporter": "python",
   "pygments_lexer": "ipython3",
   "version": "3.6.4"
  }
 },
 "nbformat": 4,
 "nbformat_minor": 2
}
